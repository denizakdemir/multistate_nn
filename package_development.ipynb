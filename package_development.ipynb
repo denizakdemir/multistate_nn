{
 "cells": [
  {
   "cell_type": "markdown",
   "id": "b70ddd48",
   "metadata": {},
   "source": [
    "# Package Development Guide\n",
    "\n",
    "This notebook walks through the process of creating and testing a Python package. We'll cover package structure, implementation, testing, and usage examples."
   ]
  },
  {
   "cell_type": "markdown",
   "id": "c6874f31",
   "metadata": {},
   "source": [
    "## 1. Define the Package Structure\n",
    "\n",
    "First, let's create the necessary directory structure and files for our package."
   ]
  },
  {
   "cell_type": "code",
   "execution_count": null,
   "id": "3fa8c325",
   "metadata": {},
   "outputs": [],
   "source": [
    "import os\n",
    "\n",
    "# Define package structure\n",
    "package_structure = {\n",
    "    'multistate_nn': {\n",
    "        '__init__.py': '',\n",
    "        'core.py': '',\n",
    "        'tests': {\n",
    "            '__init__.py': '',\n",
    "            'test_core.py': ''\n",
    "        }\n",
    "    }\n",
    "}\n",
    "\n",
    "# Create directories and files\n",
    "def create_package_structure(base_path, structure):\n",
    "    for name, content in structure.items():\n",
    "        path = os.path.join(base_path, name)\n",
    "        if isinstance(content, dict):\n",
    "            os.makedirs(path, exist_ok=True)\n",
    "            create_package_structure(path, content)\n",
    "        else:\n",
    "            with open(path, 'w') as f:\n",
    "                f.write(content)\n",
    "\n",
    "# Create the structure\n",
    "create_package_structure('.', package_structure)"
   ]
  },
  {
   "cell_type": "markdown",
   "id": "003ae615",
   "metadata": {},
   "source": [
    "## 2. Implement Package Functions\n",
    "\n",
    "Let's implement the core functionality in the `core.py` file."
   ]
  },
  {
   "cell_type": "code",
   "execution_count": null,
   "id": "c480a511",
   "metadata": {},
   "outputs": [],
   "source": [
    "# Write core functionality\n",
    "core_content = '''\n",
    "import torch\n",
    "import torch.nn as nn\n",
    "\n",
    "class MultiStateNN(nn.Module):\n",
    "    def __init__(self, input_size, hidden_size, num_states):\n",
    "        super(MultiStateNN, self).__init__()\n",
    "        self.hidden_size = hidden_size\n",
    "        self.num_states = num_states\n",
    "        \n",
    "        self.layer1 = nn.Linear(input_size, hidden_size)\n",
    "        self.state_layers = nn.ModuleList([\n",
    "            nn.Linear(hidden_size, 1) for _ in range(num_states)\n",
    "        ])\n",
    "        \n",
    "    def forward(self, x):\n",
    "        x = torch.relu(self.layer1(x))\n",
    "        outputs = torch.cat([layer(x) for layer in self.state_layers], dim=1)\n",
    "        return outputs\n",
    "'''\n",
    "\n",
    "with open('multistate_nn/core.py', 'w') as f:\n",
    "    f.write(core_content)"
   ]
  },
  {
   "cell_type": "markdown",
   "id": "ef5cf782",
   "metadata": {},
   "source": [
    "## 3. Write Unit Tests\n",
    "\n",
    "Now let's create unit tests for our implementation."
   ]
  },
  {
   "cell_type": "code",
   "execution_count": null,
   "id": "b2c06cdd",
   "metadata": {},
   "outputs": [],
   "source": [
    "# Write test cases\n",
    "test_content = '''\n",
    "import unittest\n",
    "import torch\n",
    "from ..core import MultiStateNN\n",
    "\n",
    "class TestMultiStateNN(unittest.TestCase):\n",
    "    def setUp(self):\n",
    "        self.input_size = 10\n",
    "        self.hidden_size = 20\n",
    "        self.num_states = 3\n",
    "        self.model = MultiStateNN(self.input_size, self.hidden_size, self.num_states)\n",
    "        \n",
    "    def test_output_shape(self):\n",
    "        batch_size = 5\n",
    "        x = torch.randn(batch_size, self.input_size)\n",
    "        output = self.model(x)\n",
    "        self.assertEqual(output.shape, (batch_size, self.num_states))\n",
    "        \n",
    "    def test_forward_pass(self):\n",
    "        x = torch.randn(1, self.input_size)\n",
    "        output = self.model(x)\n",
    "        self.assertIsInstance(output, torch.Tensor)\n",
    "'''\n",
    "\n",
    "with open('multistate_nn/tests/test_core.py', 'w') as f:\n",
    "    f.write(test_content)"
   ]
  },
  {
   "cell_type": "markdown",
   "id": "e3cd1a4f",
   "metadata": {},
   "source": [
    "## 4. Run Tests\n",
    "\n",
    "Let's execute the tests using unittest."
   ]
  },
  {
   "cell_type": "code",
   "execution_count": null,
   "id": "6ee9ee84",
   "metadata": {},
   "outputs": [],
   "source": [
    "import unittest\n",
    "import sys\n",
    "import os\n",
    "\n",
    "# Add the package directory to Python path\n",
    "sys.path.append(os.path.abspath('.'))\n",
    "\n",
    "# Run tests\n",
    "unittest.main(module='multistate_nn.tests.test_core', argv=['dummy'], exit=False)"
   ]
  },
  {
   "cell_type": "markdown",
   "id": "9163ec57",
   "metadata": {},
   "source": [
    "## 5. Usage Examples\n",
    "\n",
    "Here are some examples of how to use the MultiStateNN package."
   ]
  },
  {
   "cell_type": "code",
   "execution_count": null,
   "id": "727abcd0",
   "metadata": {},
   "outputs": [],
   "source": [
    "import torch\n",
    "from multistate_nn.core import MultiStateNN\n",
    "\n",
    "# Create a model instance\n",
    "model = MultiStateNN(input_size=10, hidden_size=20, num_states=3)\n",
    "\n",
    "# Generate some sample data\n",
    "batch_size = 5\n",
    "input_data = torch.randn(batch_size, 10)\n",
    "\n",
    "# Forward pass\n",
    "outputs = model(input_data)\n",
    "print(f\"Input shape: {input_data.shape}\")\n",
    "print(f\"Output shape: {outputs.shape}\")\n",
    "\n",
    "# Example with different batch size\n",
    "large_batch = torch.randn(100, 10)\n",
    "large_outputs = model(large_batch)\n",
    "print(f\"\\nLarge batch input shape: {large_batch.shape}\")\n",
    "print(f\"Large batch output shape: {large_outputs.shape}\")"
   ]
  }
 ],
 "metadata": {
  "language_info": {
   "name": "python"
  }
 },
 "nbformat": 4,
 "nbformat_minor": 5
}
