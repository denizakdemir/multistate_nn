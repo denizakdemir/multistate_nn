{
 "cells": [
  {
   "cell_type": "markdown",
   "metadata": {},
   "source": [
    "# Multistate Model for AIDS SI Data: Real-Data Example\n",
    "\n",
    "This notebook demonstrates the use of MultiStateNN with real AIDSSI dataset from pymsm. The dataset contains information about patients transitioning between HIV states and developing AIDS."
   ]
  },
  {
   "cell_type": "markdown",
   "metadata": {},
   "source": [
    "## Setup and Data Loading\n",
    "\n",
    "First, let's import the necessary packages and load the data."
   ]
  },
  {
   "cell_type": "code",
   "execution_count": null,
   "metadata": {},
   "outputs": [],
   "source": [
    "import numpy as np\n",
    "import pandas as pd\n",
    "import torch\n",
    "import matplotlib.pyplot as plt\n",
    "import seaborn as sns\n",
    "\n",
    "# Import from pymsm for the aidssi dataset\n",
    "from pymsm.datasets import load_aidssi, prep_aidssi\n",
    "\n",
    "# Import MultiStateNN package\n",
    "from multistate_nn import (\n",
    "    fit,\n",
    "    plot_transition_heatmap, \n",
    "    plot_transition_graph, \n",
    "    simulate_patient_trajectory,\n",
    "    simulate_cohort_trajectories,\n",
    "    calculate_cif,\n",
    "    plot_cif,\n",
    "    compare_cifs\n",
    ")\n",
    "\n",
    "# Set random seed for reproducibility\n",
    "np.random.seed(42)\n",
    "torch.manual_seed(42)"
   ]
  },
  {
   "cell_type": "code",
   "execution_count": null,
   "metadata": {},
   "outputs": [],
   "source": [
    "# Load and prep the AIDSSI dataset\n",
    "data = load_aidssi()\n",
    "competing_risk_dataset, covariate_cols, state_labels = prep_aidssi(data)\n",
    "\n",
    "# Display the dataset\n",
    "competing_risk_dataset.head()"
   ]
  },
  {
   "cell_type": "markdown",
   "metadata": {},
   "source": [
    "## Understanding the Dataset\n",
    "\n",
    "Let's explore the dataset structure and the state transition definitions."
   ]
  },
  {
   "cell_type": "code",
   "execution_count": null,
   "metadata": {},
   "outputs": [],
   "source": [
    "# Print information about the dataset\n",
    "print(f\"Number of samples: {len(competing_risk_dataset)}\")\n",
    "print(f\"Covariates: {covariate_cols}\")\n",
    "print(f\"State labels: {state_labels}\")"
   ]
  },
  {
   "cell_type": "code",
   "execution_count": null,
   "metadata": {},
   "outputs": [],
   "source": [
    "# Let's examine the distribution of transitions\n",
    "transition_counts = competing_risk_dataset.groupby(['from_state', 'to_state']).size().reset_index(name='count')\n",
    "transition_pivot = transition_counts.pivot(index='from_state', columns='to_state', values='count').fillna(0).astype(int)\n",
    "\n",
    "# Display the transition count matrix\n",
    "print(\"Transition Count Matrix:\")\n",
    "display(transition_pivot)\n",
    "\n",
    "# Plot the transition counts as a heatmap\n",
    "plt.figure(figsize=(10, 8))\n",
    "sns.heatmap(transition_pivot, annot=True, fmt='d', cmap='YlGnBu')\n",
    "plt.title('Transition Counts')\n",
    "plt.xlabel('To State')\n",
    "plt.ylabel('From State')\n",
    "plt.tight_layout()\n",
    "plt.show()"
   ]
  },
  {
   "cell_type": "code",
   "execution_count": null,
   "metadata": {},
   "outputs": [],
   "source": [
    "# Calculate the transition probabilities\n",
    "transition_probs = transition_pivot.div(transition_pivot.sum(axis=1), axis=0)\n",
    "\n",
    "# Plot the transition probabilities as a heatmap\n",
    "plt.figure(figsize=(10, 8))\n",
    "sns.heatmap(transition_probs, annot=True, fmt='.2f', cmap='YlGnBu')\n",
    "plt.title('Empirical Transition Probabilities')\n",
    "plt.xlabel('To State')\n",
    "plt.ylabel('From State')\n",
    "plt.tight_layout()\n",
    "plt.show()"
   ]
  },
  {
   "cell_type": "markdown",
   "metadata": {},
   "source": [
    "## Preparing Data for the Multistate Model\n",
    "\n",
    "Based on the data exploration, we need to define the state transition structure for our model."
   ]
  },
  {
   "cell_type": "code",
   "execution_count": null,
   "metadata": {},
   "outputs": [],
   "source": [
    "# Get unique states\n",
    "unique_from_states = competing_risk_dataset['from_state'].unique()\n",
    "unique_to_states = competing_risk_dataset['to_state'].unique()\n",
    "all_states = np.unique(np.concatenate([unique_from_states, unique_to_states]))\n",
    "\n",
    "# Define state transition structure based on observed transitions\n",
    "state_transitions = {}\n",
    "for state in all_states:\n",
    "    transitions_from_state = competing_risk_dataset[competing_risk_dataset['from_state'] == state]['to_state'].unique()\n",
    "    state_transitions[state] = list(transitions_from_state)\n",
    "\n",
    "# Display the state transition structure\n",
    "for from_state, to_states in state_transitions.items():\n",
    "    if to_states.size > 0:\n",
    "        print(f\"From state {from_state} ({state_labels[from_state]}): Can transition to states {to_states} ({[state_labels[s] for s in to_states]})\")\n",
    "    else:\n",
    "        print(f\"State {from_state} ({state_labels[from_state]}): Absorbing state (no outgoing transitions)\")"
   ]
  },
  {
   "cell_type": "code",
   "execution_count": null,
   "metadata": {},
   "outputs": [],
   "source": [
    "# Convert the state_transitions dictionary to the format expected by MultiStateNN\n",
    "model_state_transitions = {}\n",
    "for state, transitions in state_transitions.items():\n",
    "    model_state_transitions[int(state)] = [int(s) for s in transitions]\n",
    "\n",
    "print(\"Model state transitions:\")\n",
    "model_state_transitions"
   ]
  },
  {
   "cell_type": "code",
   "execution_count": null,
   "metadata": {},
   "outputs": [],
   "source": [
    "# Rename the columns to match MultiStateNN's expectations\n",
    "df = competing_risk_dataset.copy()\n",
    "\n",
    "# Ensure all covariates are numeric\n",
    "for col in covariate_cols:\n",
    "    if df[col].dtype == object:  # If column is categorical\n",
    "        df[col] = df[col].astype('category').cat.codes\n",
    "\n",
    "# Scale numerical covariates\n",
    "from sklearn.preprocessing import StandardScaler\n",
    "scaler = StandardScaler()\n",
    "df[covariate_cols] = scaler.fit_transform(df[covariate_cols])\n",
    "\n",
    "df.head()"
   ]
  },
  {
   "cell_type": "markdown",
   "metadata": {},
   "source": [
    "## Training the MultiState Neural Network Model"
   ]
  },
  {
   "cell_type": "code",
   "execution_count": null,
   "metadata": {},
   "outputs": [],
   "source": [
    "# Define model parameters\n",
    "input_dim = len(covariate_cols)\n",
    "hidden_dims = [64, 32]  # Two hidden layers\n",
    "num_states = int(max(all_states)) + 1\n",
    "\n",
    "# Fit the model\n",
    "model = fit(\n",
    "    df=df,\n",
    "    covariates=covariate_cols,\n",
    "    input_dim=input_dim,\n",
    "    hidden_dims=hidden_dims,\n",
    "    num_states=num_states,\n",
    "    state_transitions=model_state_transitions,\n",
    "    epochs=50,\n",
    "    batch_size=64,\n",
    "    learning_rate=0.001\n",
    ")"
   ]
  },
  {
   "cell_type": "markdown",
   "metadata": {},
   "source": [
    "## Making Predictions for Sample Patients\n",
    "\n",
    "Now let's make predictions for a few sample patients and analyze the results."
   ]
  },
  {
   "cell_type": "code",
   "execution_count": null,
   "metadata": {},
   "outputs": [],
   "source": [
    "# Create test cases with different profiles\n",
    "# Let's select a few patients with different covariate profiles\n",
    "# First, let's get the mean and std of each covariate to generate realistic test cases\n",
    "covariate_stats = competing_risk_dataset[covariate_cols].describe()\n",
    "display(covariate_stats)"
   ]
  },
  {
   "cell_type": "code",
   "execution_count": null,
   "metadata": {},
   "outputs": [],
   "source": [
    "# Get a random sample of real patients for testing\n",
    "sample_patients = df.sample(5)\n",
    "sample_patients_covs = sample_patients[covariate_cols].values\n",
    "\n",
    "# Convert to tensor\n",
    "x_test = torch.tensor(sample_patients_covs, dtype=torch.float32)\n",
    "\n",
    "# Display the sample patients\n",
    "display(sample_patients)"
   ]
  },
  {
   "cell_type": "code",
   "execution_count": null,
   "metadata": {},
   "outputs": [],
   "source": [
    "# Function to print predicted probabilities with labels\n",
    "def print_transition_probs(x, model, time_idx, from_state):\n",
    "    probs = model.predict_proba(x, time_idx, from_state).detach().cpu().numpy()\n",
    "    next_states = model.state_transitions[from_state]\n",
    "    \n",
    "    # Create DataFrame for display\n",
    "    result_df = pd.DataFrame(probs, columns=[state_labels[s] for s in next_states])\n",
    "    print(f\"Transition probabilities from {state_labels[from_state]} state (t={time_idx}):\")\n",
    "    return result_df\n",
    "\n",
    "# Let's make predictions from state 1 (HIV) for our sample patients\n",
    "try:\n",
    "    from_state = 1  # HIV\n",
    "    probs_hiv = print_transition_probs(x_test, model, time_idx=0, from_state=from_state)\n",
    "    display(probs_hiv)\n",
    "except Exception as e:\n",
    "    print(f\"Error predicting from state {from_state}: {e}\")\n",
    "    # Try another state if the first one fails\n",
    "    available_states = [s for s in model_state_transitions.keys() if model_state_transitions[s]]\n",
    "    if available_states:\n",
    "        from_state = available_states[0]\n",
    "        print(f\"Trying with state {from_state} instead...\")\n",
    "        probs = print_transition_probs(x_test, model, time_idx=0, from_state=from_state)\n",
    "        display(probs)"
   ]
  },
  {
   "cell_type": "markdown",
   "metadata": {},
   "source": [
    "## Visualizing Transitions with Heatmap\n",
    "\n",
    "Let's use the built-in visualization tools to explore the predicted transitions."
   ]
  },
  {
   "cell_type": "code",
   "execution_count": null,
   "metadata": {},
   "outputs": [],
   "source": [
    "# Visualize transition heatmap for sample patients\n",
    "plt.figure(figsize=(12, 8))\n",
    "try:\n",
    "    ax = plot_transition_heatmap(model, x_test, time_idx=0, from_state=from_state)\n",
    "    \n",
    "    # Update x-axis labels with state names\n",
    "    next_states = model.state_transitions[from_state]\n",
    "    ax.set_xticklabels([state_labels[s] for s in next_states])\n",
    "    \n",
    "    # Update y-axis labels with patient identifiers\n",
    "    ax.set_yticklabels([f\"Patient {i+1}\" for i in range(len(x_test))])\n",
    "    \n",
    "    plt.title(f\"Transition Probabilities from {state_labels[from_state]} State\")\n",
    "    plt.tight_layout()\n",
    "    plt.show()\n",
    "except Exception as e:\n",
    "    print(f\"Error plotting transition heatmap: {e}\")"
   ]
  },
  {
   "cell_type": "markdown",
   "metadata": {},
   "source": [
    "## Transition Network Visualization\n",
    "\n",
    "Let's visualize the transition network for a specific patient."
   ]
  },
  {
   "cell_type": "code",
   "execution_count": null,
   "metadata": {},
   "outputs": [],
   "source": [
    "# Select first patient for visualization\n",
    "patient1 = x_test[0:1]\n",
    "\n",
    "try:\n",
    "    fig, ax = plot_transition_graph(model, patient1, time_idx=0, threshold=0.01)\n",
    "    plt.title(f\"AIDS Patient Transition Network (Patient 1)\")\n",
    "    plt.show()\n",
    "except Exception as e:\n",
    "    print(f\"Error plotting transition graph: {e}\")"
   ]
  },
  {
   "cell_type": "markdown",
   "metadata": {},
   "source": [
    "## Simulating Patient Trajectories\n",
    "\n",
    "Now, let's simulate patient trajectories to better understand the disease progression over time."
   ]
  },
  {
   "cell_type": "code",
   "execution_count": null,
   "metadata": {},
   "outputs": [],
   "source": [
    "# Simulate trajectories for the first patient\n",
    "try:\n",
    "    # Assume patients start in state 1 (HIV)\n",
    "    start_state = 1\n",
    "    max_time = 10\n",
    "    n_simulations = 20\n",
    "    \n",
    "    trajectories = simulate_patient_trajectory(\n",
    "        model=model, \n",
    "        x=patient1, \n",
    "        start_state=start_state, \n",
    "        max_time=max_time, \n",
    "        n_simulations=n_simulations,\n",
    "        seed=42\n",
    "    )\n",
    "    \n",
    "    # Combine all trajectories\n",
    "    all_trajectories = pd.concat(trajectories, ignore_index=True)\n",
    "    \n",
    "    # Convert states to labels\n",
    "    all_trajectories['state_label'] = all_trajectories['state'].apply(lambda s: state_labels[s])\n",
    "    \n",
    "    # Plot a few sample trajectories\n",
    "    plt.figure(figsize=(14, 8))\n",
    "    \n",
    "    # Select 5 random simulations to plot\n",
    "    sample_sims = np.random.choice(n_simulations, min(5, n_simulations), replace=False)\n",
    "    \n",
    "    for sim_idx in sample_sims:\n",
    "        sim_data = all_trajectories[all_trajectories['simulation'] == sim_idx]\n",
    "        plt.step(sim_data['time'], sim_data['state'], where='post', label=f'Simulation {sim_idx+1}')\n",
    "    \n",
    "    plt.xlabel('Time')\n",
    "    plt.ylabel('State')\n",
    "    plt.yticks(list(state_labels.keys()), [state_labels[s] for s in state_labels.keys()])\n",
    "    plt.title('Sample Simulated Patient Trajectories')\n",
    "    plt.grid(True, alpha=0.3)\n",
    "    plt.legend()\n",
    "    plt.tight_layout()\n",
    "    plt.show()\n",
    "except Exception as e:\n",
    "    print(f\"Error simulating patient trajectories: {e}\")"
   ]
  },
  {
   "cell_type": "markdown",
   "metadata": {},
   "source": [
    "## Calculating Cumulative Incidence Functions (CIFs)\n",
    "\n",
    "Let's calculate the cumulative incidence functions for reaching various states."
   ]
  },
  {
   "cell_type": "code",
   "execution_count": null,
   "metadata": {},
   "outputs": [],
   "source": [
    "try:\n",
    "    # Calculate CIF for reaching AIDS (state 2) from simulated trajectories\n",
    "    target_state = 2  # AIDS\n",
    "    \n",
    "    # Ensure we have all_trajectories available\n",
    "    if 'all_trajectories' not in locals():\n",
    "        start_state = 1\n",
    "        max_time = 10\n",
    "        n_simulations = 50\n",
    "        \n",
    "        trajectories = simulate_patient_trajectory(\n",
    "            model=model, \n",
    "            x=patient1, \n",
    "            start_state=start_state, \n",
    "            max_time=max_time, \n",
    "            n_simulations=n_simulations,\n",
    "            seed=42\n",
    "        )\n",
    "        \n",
    "        all_trajectories = pd.concat(trajectories, ignore_index=True)\n",
    "    \n",
    "    # Calculate CIF for reaching AIDS\n",
    "    cif_aids = calculate_cif(\n",
    "        trajectories=all_trajectories,\n",
    "        target_state=target_state,\n",
    "        max_time=max_time\n",
    "    )\n",
    "    \n",
    "    # Plot CIF\n",
    "    plt.figure(figsize=(10, 6))\n",
    "    ax = plot_cif(\n",
    "        cif_df=cif_aids,\n",
    "        label=f\"Progression to {state_labels[target_state]}\"\n",
    "    )\n",
    "    plt.title(f\"Cumulative Incidence of {state_labels[target_state]}\")\n",
    "    plt.tight_layout()\n",
    "    plt.show()\n",
    "except Exception as e:\n",
    "    print(f\"Error calculating CIF: {e}\")"
   ]
  },
  {
   "cell_type": "markdown",
   "metadata": {},
   "source": [
    "## Comparing Different Patients\n",
    "\n",
    "Let's compare CIFs for different patients."
   ]
  },
  {
   "cell_type": "code",
   "execution_count": null,
   "metadata": {},
   "outputs": [],
   "source": [
    "try:\n",
    "    # Compare CIFs for multiple patients\n",
    "    n_patients = min(3, len(x_test))\n",
    "    all_patient_trajectories = []\n",
    "    \n",
    "    for i in range(n_patients):\n",
    "        patient_x = x_test[i:i+1]\n",
    "        \n",
    "        patient_trajectories = simulate_patient_trajectory(\n",
    "            model=model, \n",
    "            x=patient_x, \n",
    "            start_state=start_state, \n",
    "            max_time=max_time, \n",
    "            n_simulations=n_simulations,\n",
    "            seed=42 + i\n",
    "        )\n",
    "        \n",
    "        # Combine all trajectories for this patient\n",
    "        patient_all_trajectories = pd.concat(patient_trajectories, ignore_index=True)\n",
    "        patient_all_trajectories['patient_id'] = i\n",
    "        \n",
    "        all_patient_trajectories.append(patient_all_trajectories)\n",
    "    \n",
    "    combined_trajectories = pd.concat(all_patient_trajectories, ignore_index=True)\n",
    "    \n",
    "    # Calculate CIFs for each patient\n",
    "    patient_cifs = []\n",
    "    \n",
    "    for i in range(n_patients):\n",
    "        patient_data = combined_trajectories[combined_trajectories['patient_id'] == i]\n",
    "        \n",
    "        patient_cif = calculate_cif(\n",
    "            trajectories=patient_data,\n",
    "            target_state=target_state,\n",
    "            max_time=max_time\n",
    "        )\n",
    "        \n",
    "        patient_cifs.append(patient_cif)\n",
    "    \n",
    "    # Compare CIFs\n",
    "    fig, ax = compare_cifs(\n",
    "        cif_list=patient_cifs,\n",
    "        labels=[f\"Patient {i+1}\" for i in range(n_patients)],\n",
    "        title=f\"Comparison of Cumulative Incidence of {state_labels[target_state]}\"\n",
    "    )\n",
    "    plt.tight_layout()\n",
    "    plt.show()\n",
    "except Exception as e:\n",
    "    print(f\"Error comparing patient CIFs: {e}\")"
   ]
  },
  {
   "cell_type": "markdown",
   "metadata": {},
   "source": [
    "## Simulating Cohort Trajectories\n",
    "\n",
    "Let's simulate trajectories for a cohort of patients."
   ]
  },
  {
   "cell_type": "code",
   "execution_count": null,
   "metadata": {},
   "outputs": [],
   "source": [
    "try:\n",
    "    # Simulate trajectories for the entire cohort\n",
    "    cohort_trajectories = simulate_cohort_trajectories(\n",
    "        model=model,\n",
    "        cohort_features=x_test,\n",
    "        start_state=start_state,\n",
    "        max_time=max_time,\n",
    "        n_simulations_per_patient=10,\n",
    "        seed=42\n",
    "    )\n",
    "    \n",
    "    # Calculate cohort-level CIF\n",
    "    cohort_cif = calculate_cif(\n",
    "        trajectories=cohort_trajectories,\n",
    "        target_state=target_state,\n",
    "        max_time=max_time\n",
    "    )\n",
    "    \n",
    "    # Calculate individual patient CIFs\n",
    "    individual_cifs = calculate_cif(\n",
    "        trajectories=cohort_trajectories,\n",
    "        target_state=target_state,\n",
    "        max_time=max_time,\n",
    "        by_patient=True\n",
    "    )\n",
    "    \n",
    "    # Plot cohort CIF and individual patient CIFs\n",
    "    plt.figure(figsize=(12, 8))\n",
    "    \n",
    "    # Plot individual patient CIFs\n",
    "    patient_groups = individual_cifs.groupby('patient_id')\n",
    "    for patient_id, data in patient_groups:\n",
    "        plt.plot(data['time'], data['cif'], 'b-', alpha=0.3, linewidth=1)\n",
    "    \n",
    "    # Plot cohort average CIF with confidence intervals\n",
    "    plt.plot(cohort_cif['time'], cohort_cif['cif'], 'r-', linewidth=2, label='Cohort Average')\n",
    "    plt.fill_between(\n",
    "        cohort_cif['time'],\n",
    "        cohort_cif['lower_ci'],\n",
    "        cohort_cif['upper_ci'],\n",
    "        color='r',\n",
    "        alpha=0.2\n",
    "    )\n",
    "    \n",
    "    plt.xlabel('Time')\n",
    "    plt.ylabel('Cumulative Incidence')\n",
    "    plt.title(f\"Cumulative Incidence of {state_labels[target_state]} - Individual and Cohort Average\")\n",
    "    plt.legend()\n",
    "    plt.grid(True, alpha=0.3)\n",
    "    plt.tight_layout()\n",
    "    plt.show()\n",
    "except Exception as e:\n",
    "    print(f\"Error simulating cohort trajectories: {e}\")"
   ]
  },
  {
   "cell_type": "markdown",
   "metadata": {},
   "source": [
    "## Conclusion\n",
    "\n",
    "In this notebook, we've demonstrated how to use MultiStateNN with a real-world AIDSSI dataset to:\n",
    "\n",
    "1. Prepare and explore real multistate data\n",
    "2. Train a neural network model for predicting state transitions\n",
    "3. Visualize transition probabilities and state networks\n",
    "4. Simulate patient trajectories over time\n",
    "5. Calculate and visualize cumulative incidence functions\n",
    "6. Compare risks between different patients\n",
    "\n",
    "The MultiStateNN framework provides a flexible approach for modeling complex multistate processes using neural networks, making it suitable for a wide range of applications in healthcare, finance, and other domains."
   ]
  }
 ],
 "metadata": {
  "kernelspec": {
   "display_name": "Python 3",
   "language": "python",
   "name": "python3"
  },
  "language_info": {
   "codemirror_mode": {
    "name": "ipython",
    "version": 3
   },
   "file_extension": ".py",
   "mimetype": "text/x-python",
   "name": "python",
   "nbconvert_exporter": "python",
   "pygments_lexer": "ipython3",
   "version": "3.9.7"
  }
 },
 "nbformat": 4,
 "nbformat_minor": 4
}